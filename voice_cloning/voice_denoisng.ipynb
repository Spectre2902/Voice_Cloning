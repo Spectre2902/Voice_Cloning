{
 "cells": [
  {
   "cell_type": "code",
   "execution_count": 1,
   "id": "ffef5a48",
   "metadata": {},
   "outputs": [],
   "source": [
    "import requests"
   ]
  },
  {
   "cell_type": "code",
   "execution_count": 2,
   "id": "2d1de7b0",
   "metadata": {},
   "outputs": [
    {
     "ename": "ImportError",
     "evalue": "cannot import name 'ResembleAPI' from 'resemble' (C:\\Users\\riva parvez\\AppData\\Local\\Programs\\Python\\Python310\\lib\\site-packages\\resemble\\__init__.py)",
     "output_type": "error",
     "traceback": [
      "\u001b[1;31m---------------------------------------------------------------------------\u001b[0m",
      "\u001b[1;31mImportError\u001b[0m                               Traceback (most recent call last)",
      "Cell \u001b[1;32mIn[2], line 1\u001b[0m\n\u001b[1;32m----> 1\u001b[0m \u001b[38;5;28;01mfrom\u001b[39;00m \u001b[38;5;21;01mresemble\u001b[39;00m \u001b[38;5;28;01mimport\u001b[39;00m ResembleAPI\n",
      "\u001b[1;31mImportError\u001b[0m: cannot import name 'ResembleAPI' from 'resemble' (C:\\Users\\riva parvez\\AppData\\Local\\Programs\\Python\\Python310\\lib\\site-packages\\resemble\\__init__.py)"
     ]
    }
   ],
   "source": [
    "from resemble import ResembleAPI"
   ]
  },
  {
   "cell_type": "code",
   "execution_count": null,
   "id": "315b63ea",
   "metadata": {},
   "outputs": [],
   "source": []
  }
 ],
 "metadata": {
  "kernelspec": {
   "display_name": "Python 3 (ipykernel)",
   "language": "python",
   "name": "python3"
  },
  "language_info": {
   "codemirror_mode": {
    "name": "ipython",
    "version": 3
   },
   "file_extension": ".py",
   "mimetype": "text/x-python",
   "name": "python",
   "nbconvert_exporter": "python",
   "pygments_lexer": "ipython3",
   "version": "3.10.6"
  }
 },
 "nbformat": 4,
 "nbformat_minor": 5
}
